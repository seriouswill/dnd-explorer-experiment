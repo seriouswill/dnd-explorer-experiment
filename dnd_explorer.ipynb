{
 "cells": [
  {
   "cell_type": "markdown",
   "metadata": {},
   "source": [
    "## Possible formula for destruction:\n",
    "\n",
    "Group continents into 6 categories, Americas (N & S), Europe, Africa, Asia, Australasia & Antarctica.\n",
    "\n",
    "They align with STR, DEX, CON, INT, WIS, CHA respectively.\n",
    "\n",
    "Flat formula - Size(S1, M2, L3) X d20 roll X continent mulitplier = Damage."
   ]
  },
  {
   "cell_type": "code",
   "execution_count": 1,
   "metadata": {},
   "outputs": [],
   "source": [
    "import pandas as pd\n",
    "import random\n",
    "\n",
    "file = pd.read_csv(\"./dnd_monsters.csv\")\n",
    "cc_file = pd.read_csv(\"./countries_continents.csv\")\n",
    "\n",
    "size_dict = {\"Tiny\":0.5,\n",
    "    \"Small\":1,\n",
    "    \"Medium\":2,\n",
    "    \"Large\":3,\n",
    "    \"Huge\":4,\n",
    "    \"Gargantuan\":5\n",
    "    }\n",
    "\n",
    "# file.iloc[random.randint(0, 200)]['hp']\n",
    "\n",
    "# sort out missing values for dex con int etc\n",
    "file = file.fillna(random.randint(0, 5))\n",
    "\n",
    "# make a new column for size multiplier\n",
    "file['size_multiplier'] = file['size'].map(size_dict)\n",
    "\n",
    "# D20 dice roll\n",
    "D20 = random.randint(0, 20)"
   ]
  },
  {
   "cell_type": "code",
   "execution_count": 2,
   "metadata": {},
   "outputs": [
    {
     "data": {
      "text/html": [
       "<div>\n",
       "<style scoped>\n",
       "    .dataframe tbody tr th:only-of-type {\n",
       "        vertical-align: middle;\n",
       "    }\n",
       "\n",
       "    .dataframe tbody tr th {\n",
       "        vertical-align: top;\n",
       "    }\n",
       "\n",
       "    .dataframe thead th {\n",
       "        text-align: right;\n",
       "    }\n",
       "</style>\n",
       "<table border=\"1\" class=\"dataframe\">\n",
       "  <thead>\n",
       "    <tr style=\"text-align: right;\">\n",
       "      <th></th>\n",
       "      <th>Continent</th>\n",
       "      <th>Country</th>\n",
       "      <th>Country (or dependency)</th>\n",
       "      <th>Population</th>\n",
       "    </tr>\n",
       "  </thead>\n",
       "  <tbody>\n",
       "    <tr>\n",
       "      <th>0</th>\n",
       "      <td>Africa</td>\n",
       "      <td>Algeria</td>\n",
       "      <td>Algeria</td>\n",
       "      <td>43984569</td>\n",
       "    </tr>\n",
       "    <tr>\n",
       "      <th>1</th>\n",
       "      <td>Africa</td>\n",
       "      <td>Angola</td>\n",
       "      <td>Angola</td>\n",
       "      <td>33032075</td>\n",
       "    </tr>\n",
       "    <tr>\n",
       "      <th>2</th>\n",
       "      <td>Africa</td>\n",
       "      <td>Benin</td>\n",
       "      <td>Benin</td>\n",
       "      <td>12175480</td>\n",
       "    </tr>\n",
       "    <tr>\n",
       "      <th>3</th>\n",
       "      <td>Africa</td>\n",
       "      <td>Botswana</td>\n",
       "      <td>Botswana</td>\n",
       "      <td>2359585</td>\n",
       "    </tr>\n",
       "    <tr>\n",
       "      <th>4</th>\n",
       "      <td>Africa</td>\n",
       "      <td>Burundi</td>\n",
       "      <td>Burundi</td>\n",
       "      <td>11948454</td>\n",
       "    </tr>\n",
       "    <tr>\n",
       "      <th>...</th>\n",
       "      <td>...</td>\n",
       "      <td>...</td>\n",
       "      <td>...</td>\n",
       "      <td>...</td>\n",
       "    </tr>\n",
       "    <tr>\n",
       "      <th>178</th>\n",
       "      <td>South America</td>\n",
       "      <td>Paraguay</td>\n",
       "      <td>Paraguay</td>\n",
       "      <td>7147553</td>\n",
       "    </tr>\n",
       "    <tr>\n",
       "      <th>179</th>\n",
       "      <td>South America</td>\n",
       "      <td>Peru</td>\n",
       "      <td>Peru</td>\n",
       "      <td>33050211</td>\n",
       "    </tr>\n",
       "    <tr>\n",
       "      <th>180</th>\n",
       "      <td>South America</td>\n",
       "      <td>Suriname</td>\n",
       "      <td>Suriname</td>\n",
       "      <td>587541</td>\n",
       "    </tr>\n",
       "    <tr>\n",
       "      <th>181</th>\n",
       "      <td>South America</td>\n",
       "      <td>Uruguay</td>\n",
       "      <td>Uruguay</td>\n",
       "      <td>3475842</td>\n",
       "    </tr>\n",
       "    <tr>\n",
       "      <th>182</th>\n",
       "      <td>South America</td>\n",
       "      <td>Venezuela</td>\n",
       "      <td>Venezuela</td>\n",
       "      <td>28421581</td>\n",
       "    </tr>\n",
       "  </tbody>\n",
       "</table>\n",
       "<p>183 rows × 4 columns</p>\n",
       "</div>"
      ],
      "text/plain": [
       "         Continent    Country Country (or dependency)  Population\n",
       "0           Africa    Algeria                 Algeria    43984569\n",
       "1           Africa     Angola                  Angola    33032075\n",
       "2           Africa      Benin                   Benin    12175480\n",
       "3           Africa   Botswana                Botswana     2359585\n",
       "4           Africa    Burundi                 Burundi    11948454\n",
       "..             ...        ...                     ...         ...\n",
       "178  South America   Paraguay                Paraguay     7147553\n",
       "179  South America       Peru                    Peru    33050211\n",
       "180  South America   Suriname                Suriname      587541\n",
       "181  South America    Uruguay                 Uruguay     3475842\n",
       "182  South America  Venezuela               Venezuela    28421581\n",
       "\n",
       "[183 rows x 4 columns]"
      ]
     },
     "execution_count": 2,
     "metadata": {},
     "output_type": "execute_result"
    }
   ],
   "source": [
    "pop_file = pd.read_csv(\"./population_by_country_2020.csv\")\n",
    "\n",
    "pop_file = pop_file[\n",
    "    ['Country (or dependency)', 'Population (2020)']\n",
    "]\n",
    "merged_df = pd.merge(cc_file, pop_file, left_on='Country', right_on='Country (or dependency)')\n",
    "\n",
    "merged_df['Population'] = merged_df['Population (2020)']\n",
    "merged_df.pop('Population (2020)')\n",
    "\n",
    "merged_df"
   ]
  },
  {
   "cell_type": "code",
   "execution_count": 12,
   "metadata": {},
   "outputs": [],
   "source": [
    "import certifi\n",
    "import ssl\n",
    "import geopy.geocoders\n",
    "from geopy.geocoders import Nominatim\n",
    "import random\n",
    "ctx = ssl.create_default_context(cafile=certifi.where())\n",
    "geopy.geocoders.options.default_ssl_context = ctx\n",
    "\n",
    "def get_continent(Nominatim=Nominatim):\n",
    "    geolocator = Nominatim(user_agent=\"my_geocoder\")\n",
    "\n",
    "    land = False\n",
    "    while land != True:\n",
    "        lat = random.randint(-90, 90)\n",
    "        long = random.randint(-180, 180)\n",
    "\n",
    "        location = geolocator.reverse((lat, long), language='en')\n",
    "        try:\n",
    "            country = location.raw['address']['country']\n",
    "            land = True\n",
    "            # print(f\"Country: {country}\")\n",
    "\n",
    "            continent_row = cc_file.loc[cc_file['Country']==country]\n",
    "\n",
    "            continent = continent_row['Continent'].to_list()[0]\n",
    "            # print(f\"Continent: {continent}\")\n",
    "        except:\n",
    "            print(\"Monster drowned in the briny depths of the ocean.\")\n",
    "            land = False\n",
    "\n",
    "    return country, continent\n",
    "\n",
    "country, continent = get_continent()"
   ]
  },
  {
   "cell_type": "code",
   "execution_count": 8,
   "metadata": {},
   "outputs": [
    {
     "data": {
      "text/plain": [
       "'North America'"
      ]
     },
     "execution_count": 8,
     "metadata": {},
     "output_type": "execute_result"
    }
   ],
   "source": [
    "\n",
    "\n",
    "\n",
    "continent"
   ]
  },
  {
   "cell_type": "markdown",
   "metadata": {},
   "source": [
    "Group continents into 6 categories, Americas (N & S), Europe, Africa, Asia, Australasia & Antarctica.\n",
    "\n",
    "They align with STR, DEX, CON, INT, WIS, CHA respectively.\n",
    "\n",
    "Flat formula - Size(S1, M2, L3) X d20 roll X continent mulitplier = Damage."
   ]
  },
  {
   "cell_type": "code",
   "execution_count": 9,
   "metadata": {},
   "outputs": [
    {
     "data": {
      "text/plain": [
       "{'Africa': 'str',\n",
       " 'Asia': 'dex',\n",
       " 'Europe': 'con',\n",
       " 'North America': 'int',\n",
       " 'Oceania': 'wis',\n",
       " 'South America': 'cha'}"
      ]
     },
     "execution_count": 9,
     "metadata": {},
     "output_type": "execute_result"
    }
   ],
   "source": [
    "mod = [\"str\", \"dex\", \"con\", \"int\", \"wis\", \"cha\"]\n",
    "continent_dict = {cc_file['Continent'].unique()[i]: mod[i] for i in range(len(mod))}\n",
    "\n",
    "continent_dict\n"
   ]
  },
  {
   "cell_type": "code",
   "execution_count": 10,
   "metadata": {},
   "outputs": [
    {
     "data": {
      "text/plain": [
       "('barghest', 429000)"
      ]
     },
     "execution_count": 10,
     "metadata": {},
     "output_type": "execute_result"
    }
   ],
   "source": [
    "def create_monster_damage(file=file, continent_dict=continent_dict, continent=continent):\n",
    "    rand_monster = file.sample()\n",
    "    monster_name = rand_monster['name'].iloc[0]\n",
    "\n",
    "    damage = 1000 * D20 * rand_monster['size_multiplier'] * rand_monster[continent_dict[continent]]\n",
    "\n",
    "    damage = int(damage.iloc[0])\n",
    "\n",
    "    return monster_name, damage\n",
    "\n",
    "create_monster_damage()"
   ]
  },
  {
   "cell_type": "markdown",
   "metadata": {},
   "source": [
    "## Possible repurcussions from damage.\n",
    "\n",
    "Damage could equal population killed. Bit bleak? Try and evacuate people in time? Then we could work towards live data. \n",
    "\n",
    "Damage has three stages, 6 seconds, 6 minutes, 60 minutes.\n",
    "\n",
    "Might be difficult to get population of cities and locales.\n",
    "\n",
    "Could do population of countries, and can move people to a bordering country. Would be interesting to keep a running population table."
   ]
  },
  {
   "cell_type": "code",
   "execution_count": null,
   "metadata": {},
   "outputs": [],
   "source": [
    "# population = merged_df['Population (2020)'].loc[merged_df['Country']==country]\n",
    "# population = int(population.iloc[0])\n",
    "# percent_loss = round(damage / population * 100, 3)\n",
    "\n",
    "\n",
    "# print(f\"Country: {country}, \\nPopulation: {population}, \\nMonster: {monster_name.upper()}, \\nDamage: {damage} \\nUpdated Population: {population - damage}, \\nPercent Population Lost: {percent_loss}\")\n"
   ]
  },
  {
   "cell_type": "markdown",
   "metadata": {},
   "source": [
    "# Create fake sample stream"
   ]
  },
  {
   "cell_type": "code",
   "execution_count": 13,
   "metadata": {},
   "outputs": [
    {
     "name": "stdout",
     "output_type": "stream",
     "text": [
      "{\"country\": \"China\", \"population\": 1440253825, \"monster_name\": \"QUADRONE\", \"damage\": 22000, \"updated_population\": 1440231825, \"percent_loss\": 0.002, \"ts\": \"2023-09-26 09:40:28.080567\"}\n",
      "Monster drowned in the briny depths of the ocean.\n",
      "Monster drowned in the briny depths of the ocean.\n",
      "Monster drowned in the briny depths of the ocean.\n",
      "Monster drowned in the briny depths of the ocean.\n",
      "Monster drowned in the briny depths of the ocean.\n",
      "Monster drowned in the briny depths of the ocean.\n",
      "Monster drowned in the briny depths of the ocean.\n",
      "Monster drowned in the briny depths of the ocean.\n",
      "{\"country\": \"Mexico\", \"population\": 129166028, \"monster_name\": \"PENTADRONE\", \"damage\": 33000, \"updated_population\": 129133028, \"percent_loss\": 0.026, \"ts\": \"2023-09-26 09:40:34.224111\"}\n",
      "Monster drowned in the briny depths of the ocean.\n",
      "Monster drowned in the briny depths of the ocean.\n",
      "{\"country\": \"Greenland\", \"population\": 56787, \"monster_name\": \"BLUE-ABISHAI\", \"damage\": 22000, \"updated_population\": 34787, \"percent_loss\": 38.741, \"ts\": \"2023-09-26 09:40:37.432768\"}\n",
      "Monster drowned in the briny depths of the ocean.\n",
      "{\"country\": \"Canada\", \"population\": 37799407, \"monster_name\": \"GITHYANKI-SUPREME-COMMANDER\", \"damage\": 22000, \"updated_population\": 37777407, \"percent_loss\": 0.058, \"ts\": \"2023-09-26 09:40:40.088846\"}\n",
      "{\"country\": \"Peru\", \"population\": 33050211, \"monster_name\": \"DEATH-DOG\", \"damage\": 66000, \"updated_population\": 32984211, \"percent_loss\": 0.2, \"ts\": \"2023-09-26 09:40:42.240632\"}\n",
      "Monster drowned in the briny depths of the ocean.\n",
      "Monster drowned in the briny depths of the ocean.\n",
      "{\"country\": \"Russia\", \"population\": 145659524, \"monster_name\": \"STORM-GIANT-QUINTESSENT\", \"damage\": 44000, \"updated_population\": 145615524, \"percent_loss\": 0.03, \"ts\": \"2023-09-26 09:40:45.420910\"}\n",
      "Monster drowned in the briny depths of the ocean.\n",
      "Monster drowned in the briny depths of the ocean.\n",
      "Monster drowned in the briny depths of the ocean.\n",
      "{\"country\": \"Namibia\", \"population\": 2548663, \"monster_name\": \"SWARM-OF-CRANIUM-RATS\", \"damage\": 22000, \"updated_population\": 2526663, \"percent_loss\": 0.863, \"ts\": \"2023-09-26 09:40:49.058048\"}\n",
      "{\"country\": \"Canada\", \"population\": 37777407, \"monster_name\": \"GITHYANKI-KNIGHT\", \"damage\": 22000, \"updated_population\": 37755407, \"percent_loss\": 0.058, \"ts\": \"2023-09-26 09:40:51.204426\"}\n"
     ]
    }
   ],
   "source": [
    "import time\n",
    "import json\n",
    "import datetime\n",
    "from threading import Thread\n",
    "\n",
    "\n",
    "for i in range(8):\n",
    "    # time delay\n",
    "    time.sleep(1)\n",
    "\n",
    "    # unpack monster info\n",
    "    monster_name, damage = create_monster_damage()\n",
    "\n",
    "    # unpack country info\n",
    "    country, continent = get_continent()\n",
    "    # country, continent = \"Canada\", \"North America\"\n",
    "\n",
    "    # Update the main DF in order to keep track of running casualties in countries.\n",
    "    index_loc = merged_df.loc[merged_df['Country']==country].index[0]\n",
    "\n",
    "    # population info\n",
    "    population = int(merged_df['Population'].at[index_loc])\n",
    "\n",
    "\n",
    "    # display results\n",
    "    # print(f\"Country: {country}, \\nPopulation: {population}, \\nMonster: {monster_name.upper()}, \\nDamage: {damage} \\nUpdated Population: {population - damage}, \\nPercent Population Lost: {percent_loss}\\n\\n---\\n\")\n",
    "\n",
    "    # \\|/ BELOW IS THE CORRECT WAY TO AMEND VALUES IN A DATAFRAME \\|/\n",
    "\n",
    "    # need to catch minus population numbers \n",
    "    if population - damage < 0:\n",
    "        updated_population = 0\n",
    "        merged_df.at[index_loc, 'Population'] = 0\n",
    "    else:\n",
    "        updated_population = population - damage\n",
    "        merged_df.at[index_loc, 'Population'] -= damage\n",
    "\n",
    "    # print(f\"Pop: {population}\")\n",
    "    # print(f\"UpPop: {updated_population}\")\n",
    "    \n",
    "    # calculate percentage population loss !!! CATCH percentages greater than 100\n",
    "    percent_loss = round(damage / population * 100, 3)\n",
    "    if percent_loss > 100:\n",
    "        percent_loss = 100\n",
    "\n",
    "    # structure data for stream\n",
    "    data = {\n",
    "        \"country\": country,\n",
    "        \"population\": population,\n",
    "        \"monster_name\": monster_name.upper(),\n",
    "        \"damage\": damage,\n",
    "        \"updated_population\": int(updated_population),\n",
    "        \"percent_loss\": percent_loss,\n",
    "        \"ts\": str(datetime.datetime.now())\n",
    "    }\n",
    "    # jsonify\n",
    "    json_string = json.dumps(data)\n",
    "    print(json_string)\n",
    "    # print(f\"--- {updated_population} ---\")\n",
    "\n",
    "    time.sleep(1)\n",
    " "
   ]
  },
  {
   "cell_type": "markdown",
   "metadata": {},
   "source": [
    "## I need a function to take the random monster and country info and times the damage by ten and write it to the stream\n",
    "\n",
    "This is because I cannot have the monsters being created in a game loop, and still be times 10, then times 100 with the damage stages whilst the loop is running as all the variables will be redefined.\n",
    "\n",
    "This will possibly be executed with Threading and targets, but for now I will deprioritize."
   ]
  },
  {
   "cell_type": "code",
   "execution_count": null,
   "metadata": {},
   "outputs": [],
   "source": [
    "# # damage, updated_population = damage_stage(2, damage, updated_population)\n",
    "#     # damage_stage(3, damage, updated_population)\n",
    "\n",
    "#     t1 = Thread(target = damage_stage(2))\n",
    "#     # t2 = Thread(target = secondFunction)\n",
    "\n",
    "#     t1.start()\n",
    "#     # t2.start()"
   ]
  },
  {
   "cell_type": "code",
   "execution_count": null,
   "metadata": {},
   "outputs": [],
   "source": [
    " # STAGE 2\n",
    "\n",
    "    # # damage increases after 6 minutes\n",
    "    # ten_damage = damage * 10\n",
    "    # damage += ten_damage\n",
    "\n",
    "    # # recalculate population with 0 catch\n",
    "    # if updated_population - ten_damage < 0:\n",
    "    #     updated_population = 0\n",
    "    # else:\n",
    "    #     updated_population = updated_population - ten_damage\n",
    "\n",
    "    # # recalculate percent loss \n",
    "    # percent_loss = round((population - updated_population) / population * 100, 3)\n",
    "\n",
    "    # data = {\n",
    "    #     \"country\": country,\n",
    "    #     \"population\": population,\n",
    "    #     \"monster_name\": monster_name.upper(),\n",
    "    #     \"damage\": damage,\n",
    "    #     \"updated_population\": (updated_population),\n",
    "    #     \"percent_loss\": percent_loss,\n",
    "    #     \"ts\": str(datetime.datetime.now())\n",
    "    # }\n",
    "    # # jsonify\n",
    "    # json_string = json.dumps(data)\n",
    "    # print(json_string)"
   ]
  },
  {
   "cell_type": "markdown",
   "metadata": {},
   "source": [
    "## Depriotized `damage_stage()`"
   ]
  },
  {
   "cell_type": "code",
   "execution_count": null,
   "metadata": {},
   "outputs": [],
   "source": [
    "# def damage_stage(stage, damage=damage, updated_population=updated_population):\n",
    "#     if stage == 2:\n",
    "#         time.sleep(5) #!test\n",
    "#         # damage increases after 6 minutes\n",
    "#         print(damage)\n",
    "#         ten_damage = damage * 10\n",
    "#         damage += ten_damage\n",
    "#         print(damage) \n",
    "#         # recalculate population with 0 catch\n",
    "#         if updated_population - ten_damage < 0:\n",
    "#             updated_population = 0\n",
    "#         else:\n",
    "#             updated_population = updated_population - ten_damage\n",
    "#     elif stage == 3:\n",
    "#         time.sleep(5) #!test\n",
    "#         # damage increases after 6 minutes\n",
    "#         print(damage)\n",
    "#         hundred_damage = damage * 10\n",
    "#         damage += hundred_damage\n",
    "#         print(damage)\n",
    "#         if updated_population - hundred_damage < 0:\n",
    "#             updated_population = 0\n",
    "#         else:\n",
    "#             updated_population = updated_population - hundred_damage\n",
    "\n",
    "\n",
    "   \n",
    "\n",
    "#     # recalculate percent loss \n",
    "#     percent_loss = round((population - updated_population) / population * 100, 3)\n",
    "\n",
    "#     data = {\n",
    "#         \"country\": country,\n",
    "#         \"population\": population,\n",
    "#         \"monster_name\": monster_name.upper(),\n",
    "#         \"damage\": damage,\n",
    "#         \"updated_population\": (updated_population),\n",
    "#         \"percent_loss\": percent_loss,\n",
    "#         \"ts\": str(datetime.datetime.now())\n",
    "#     }\n",
    "#     # jsonify\n",
    "#     json_string = json.dumps(data)\n",
    "#     print(json_string)\n",
    "\n",
    "#     return damage, updated_population"
   ]
  },
  {
   "cell_type": "markdown",
   "metadata": {},
   "source": [
    "## I'm running into an issue with multiple while loops...\n",
    "\n",
    "Without getting into the mess that is threading how do I execute a loop to make a continuous stream of monsters and have EACH of those monsters do *10 damage after 6 minutes, then each of those monsters do *100 damage after an hour.\n",
    "\n",
    "- Perhaps this amount of damage is actually too much at this stage \n",
    "- Should I re-prioritize to make sure I can post out the monster damage in a faux stream environment and...\n",
    "- Keep track of the damage that is being done to countries."
   ]
  },
  {
   "cell_type": "markdown",
   "metadata": {},
   "source": []
  }
 ],
 "metadata": {
  "kernelspec": {
   "display_name": "dnd-venv",
   "language": "python",
   "name": "python3"
  },
  "language_info": {
   "codemirror_mode": {
    "name": "ipython",
    "version": 3
   },
   "file_extension": ".py",
   "mimetype": "text/x-python",
   "name": "python",
   "nbconvert_exporter": "python",
   "pygments_lexer": "ipython3",
   "version": "3.11.5"
  },
  "orig_nbformat": 4
 },
 "nbformat": 4,
 "nbformat_minor": 2
}
